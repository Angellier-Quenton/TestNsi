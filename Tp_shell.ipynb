{
 "cells": [
  {
   "cell_type": "markdown",
   "metadata": {},
   "source": [
    "# Tp de prise en main du shell linux\n"
   ]
  },
  {
   "cell_type": "markdown",
   "metadata": {},
   "source": [
    "Ceci est un notebook, c'est une feuille d'exercice interactive.\n",
    "Les cellules (bloc de lignes) précédées de [ ] sont des cellules qui vont interpréter les commandes et afficher la sortie de la console en dessous.\n",
    "Pour les éxecuter il faut appuyer sur `shift` et `return`.\n",
    "Vous pouvez très bien recommencer dans la même cellule, en cas d'erreur ou pas."
   ]
  },
  {
   "cell_type": "markdown",
   "metadata": {},
   "source": [
    "Pour obtenir le chemin absolu du dossier courant : `pwd`"
   ]
  },
  {
   "cell_type": "code",
   "execution_count": 23,
   "metadata": {},
   "outputs": [
    {
     "name": "stdout",
     "output_type": "stream",
     "text": [
      "/home/jovyan/NSITravail\n"
     ]
    }
   ],
   "source": [
    "pwd"
   ]
  },
  {
   "cell_type": "markdown",
   "metadata": {},
   "source": [
    "Pour lister le contenu d'un répertoire : `ls`, on peut obtenir plus d'information en ajoutant l'option `-l`"
   ]
  },
  {
   "cell_type": "code",
   "execution_count": 24,
   "metadata": {},
   "outputs": [
    {
     "name": "stdout",
     "output_type": "stream",
     "text": [
      "test2.txt  test3.txt  test.txt  Tp_shell.ipynb\n"
     ]
    }
   ],
   "source": [
    "ls"
   ]
  },
  {
   "cell_type": "code",
   "execution_count": 4,
   "metadata": {},
   "outputs": [
    {
     "name": "stdout",
     "output_type": "stream",
     "text": [
      "total 8\n",
      "-rw-r--r-- 1 jovyan root    0 Mar 30 09:55 test2.txt\n",
      "-rw-r--r-- 1 jovyan root    0 Mar 30 09:58 test3.txt\n",
      "-rw-r--r-- 1 jovyan root 6270 Mar 30 10:08 Tp_shell.ipynb\n"
     ]
    }
   ],
   "source": [
    "ls -l"
   ]
  },
  {
   "cell_type": "markdown",
   "metadata": {},
   "source": [
    "Pour changer de répertoire courant : `cd chemin`\n",
    "\n",
    "Avec un chemin absolu, ou avec un chemin relatif\n"
   ]
  },
  {
   "cell_type": "code",
   "execution_count": 5,
   "metadata": {},
   "outputs": [
    {
     "name": "stdout",
     "output_type": "stream",
     "text": [
      "/home/jovyan\n"
     ]
    }
   ],
   "source": [
    "cd ..\n",
    "pwd"
   ]
  },
  {
   "cell_type": "code",
   "execution_count": 6,
   "metadata": {},
   "outputs": [
    {
     "name": "stdout",
     "output_type": "stream",
     "text": [
      "/\n"
     ]
    }
   ],
   "source": [
    "cd /\n",
    "pwd"
   ]
  },
  {
   "cell_type": "code",
   "execution_count": 7,
   "metadata": {},
   "outputs": [
    {
     "name": "stdout",
     "output_type": "stream",
     "text": [
      "/home/jovyan\n"
     ]
    }
   ],
   "source": [
    "cd /home/jovyan\n",
    "pwd"
   ]
  },
  {
   "cell_type": "markdown",
   "metadata": {},
   "source": [
    "Pour mettre à jour l'heure d'accès à un fichier, s'il existe, ou créer le fichier s'il n'existe pas.\n",
    "`touch file`"
   ]
  },
  {
   "cell_type": "code",
   "execution_count": 8,
   "metadata": {},
   "outputs": [
    {
     "name": "stdout",
     "output_type": "stream",
     "text": [
      "total 8\n",
      "-rw-r--r-- 1 jovyan root    0 Mar 30 09:55 test2.txt\n",
      "-rw-r--r-- 1 jovyan root    0 Mar 30 09:58 test3.txt\n",
      "-rw-r--r-- 1 jovyan root    0 Mar 30 10:20 test_fichier.txt\n",
      "-rw-r--r-- 1 jovyan root 6270 Mar 30 10:08 Tp_shell.ipynb\n"
     ]
    }
   ],
   "source": [
    "cd NSITravail\n",
    "touch test_fichier.txt\n",
    "ls -l"
   ]
  },
  {
   "cell_type": "markdown",
   "metadata": {},
   "source": [
    "Pour créer un répertoire : `mkdir répertoire`"
   ]
  },
  {
   "cell_type": "code",
   "execution_count": 9,
   "metadata": {},
   "outputs": [
    {
     "name": "stdout",
     "output_type": "stream",
     "text": [
      "total 12\n",
      "-rw-r--r-- 1 jovyan root    0 Mar 30 09:55 test2.txt\n",
      "-rw-r--r-- 1 jovyan root    0 Mar 30 09:58 test3.txt\n",
      "-rw-r--r-- 1 jovyan root    0 Mar 30 10:20 test_fichier.txt\n",
      "drwxr-xr-x 2 jovyan root 4096 Mar 30 10:20 test_repertoire\n",
      "-rw-r--r-- 1 jovyan root 6270 Mar 30 10:08 Tp_shell.ipynb\n"
     ]
    }
   ],
   "source": [
    "mkdir test_repertoire\n",
    "ls -l"
   ]
  },
  {
   "cell_type": "markdown",
   "metadata": {},
   "source": [
    "Pour supprimer :\n",
    "- un répertoire :  `rmdir repertoire` (attention, il doit être non vide)\n",
    "- un fichier : `rm file`"
   ]
  },
  {
   "cell_type": "code",
   "execution_count": 10,
   "metadata": {},
   "outputs": [
    {
     "name": "stdout",
     "output_type": "stream",
     "text": [
      "total 8\n",
      "-rw-r--r-- 1 jovyan root    0 Mar 30 09:55 test2.txt\n",
      "-rw-r--r-- 1 jovyan root    0 Mar 30 09:58 test3.txt\n",
      "-rw-r--r-- 1 jovyan root    0 Mar 30 10:20 test_fichier.txt\n",
      "-rw-r--r-- 1 jovyan root 6270 Mar 30 10:08 Tp_shell.ipynb\n"
     ]
    }
   ],
   "source": [
    "rmdir test_repertoire\n",
    "ls -l"
   ]
  },
  {
   "cell_type": "code",
   "execution_count": 11,
   "metadata": {},
   "outputs": [
    {
     "name": "stdout",
     "output_type": "stream",
     "text": [
      "total 8\n",
      "-rw-r--r-- 1 jovyan root    0 Mar 30 09:55 test2.txt\n",
      "-rw-r--r-- 1 jovyan root    0 Mar 30 09:58 test3.txt\n",
      "-rw-r--r-- 1 jovyan root 6270 Mar 30 10:08 Tp_shell.ipynb\n"
     ]
    }
   ],
   "source": [
    "rm test_fichier.txt\n",
    "ls -l"
   ]
  },
  {
   "cell_type": "markdown",
   "metadata": {},
   "source": [
    "Pour copier un fichier : `cp chemin_initial chemin_final`"
   ]
  },
  {
   "cell_type": "code",
   "execution_count": 12,
   "metadata": {},
   "outputs": [
    {
     "name": "stdout",
     "output_type": "stream",
     "text": [
      "total 8\n",
      "-rw-r--r-- 1 jovyan root    0 Mar 30 10:20 test2.txt\n",
      "-rw-r--r-- 1 jovyan root    0 Mar 30 09:58 test3.txt\n",
      "-rw-r--r-- 1 jovyan root    0 Mar 30 10:20 test.txt\n",
      "-rw-r--r-- 1 jovyan root 6270 Mar 30 10:08 Tp_shell.ipynb\n"
     ]
    }
   ],
   "source": [
    "touch test.txt\n",
    "cp test.txt test2.txt\n",
    "ls -l"
   ]
  },
  {
   "cell_type": "markdown",
   "metadata": {},
   "source": [
    "Pour déplacer un fichier (ce qui revient à le renommer) : `mv chemin_initial chemin final`. Ecrase la destination si elle existe."
   ]
  },
  {
   "cell_type": "code",
   "execution_count": 13,
   "metadata": {},
   "outputs": [
    {
     "name": "stdout",
     "output_type": "stream",
     "text": [
      "total 8\n",
      "-rw-r--r-- 1 jovyan root    0 Mar 30 10:20 test2.txt\n",
      "-rw-r--r-- 1 jovyan root    0 Mar 30 10:20 test3.txt\n",
      "-rw-r--r-- 1 jovyan root 6270 Mar 30 10:08 Tp_shell.ipynb\n"
     ]
    }
   ],
   "source": [
    "mv test.txt test3.txt\n",
    "ls -l"
   ]
  },
  {
   "cell_type": "markdown",
   "metadata": {},
   "source": [
    "Pour afficher le contenu textuel d'un fichier (si c'est un fichier binaire, ce sera une suite de caractères incompréhensibles)\n"
   ]
  },
  {
   "cell_type": "code",
   "execution_count": 14,
   "metadata": {},
   "outputs": [
    {
     "name": "stdout",
     "output_type": "stream",
     "text": [
      "#!/bin/sh\n",
      "exec grep -E \"$@\"\n"
     ]
    }
   ],
   "source": [
    "cat /bin/egrep"
   ]
  },
  {
   "cell_type": "markdown",
   "metadata": {},
   "source": [
    "Pour écrire du texte, on utilise `echo \"texte à écrire\"`. On peut éventuellement rediriger la sortie (normalement l'écran) vers un fichier avec le caractère `>`."
   ]
  },
  {
   "cell_type": "code",
   "execution_count": 16,
   "metadata": {},
   "outputs": [
    {
     "name": "stdout",
     "output_type": "stream",
     "text": [
      "Bonjour, le monde\n"
     ]
    }
   ],
   "source": [
    "echo \"Bonjour, le monde\""
   ]
  },
  {
   "cell_type": "code",
   "execution_count": 21,
   "metadata": {},
   "outputs": [
    {
     "name": "stdout",
     "output_type": "stream",
     "text": [
      "total 16\n",
      "-rw-r--r-- 1 jovyan root    0 Mar 30 10:20 test2.txt\n",
      "-rw-r--r-- 1 jovyan root    0 Mar 30 10:20 test3.txt\n",
      "-rw-r--r-- 1 jovyan root   75 Mar 30 10:25 test.txt\n",
      "-rw-r--r-- 1 jovyan root 8475 Mar 30 10:24 Tp_shell.ipynb\n",
      "ce texte est enregistré dans le fichier test.txt, qui est crée si besoin\n"
     ]
    }
   ],
   "source": [
    "echo \"ce texte est enregistré dans le fichier test.txt, qui est crée si besoin\"> test.txt\n",
    "ls -l\n",
    "cat test.txt"
   ]
  },
  {
   "cell_type": "markdown",
   "metadata": {},
   "source": []
  },
  {
   "cell_type": "markdown",
   "metadata": {},
   "source": [
    "Vous pouvez passer maintenant à l'onglet terminal pour faire le travail suivant. Remarque toutes les modifications faites dans ce notebook, sont visible dans le terinal.\n"
   ]
  },
  {
   "cell_type": "code",
   "execution_count": null,
   "metadata": {},
   "outputs": [],
   "source": []
  }
 ],
 "metadata": {
  "kernelspec": {
   "display_name": "Bash",
   "language": "bash",
   "name": "bash"
  },
  "language_info": {
   "codemirror_mode": "shell",
   "file_extension": ".sh",
   "mimetype": "text/x-sh",
   "name": "bash"
  }
 },
 "nbformat": 4,
 "nbformat_minor": 4
}
